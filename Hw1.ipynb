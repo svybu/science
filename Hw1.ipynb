{
 "cells": [
  {
   "cell_type": "code",
   "execution_count": 1,
   "id": "1c81f13d",
   "metadata": {},
   "outputs": [
    {
     "name": "stdout",
     "output_type": "stream",
     "text": [
      "[ 1  2  3  4  5  6  7  8  9 10]\n"
     ]
    }
   ],
   "source": [
    "#1\n",
    "import numpy as np\n",
    "vector = np.arange(1,11)\n",
    "print(vector)"
   ]
  },
  {
   "cell_type": "code",
   "execution_count": 9,
   "id": "5dc9c81c",
   "metadata": {
    "scrolled": true
   },
   "outputs": [
    {
     "name": "stdout",
     "output_type": "stream",
     "text": [
      "[[0.8602117  0.54477625 0.59986449 0.6538762 ]\n",
      " [0.2307966  0.10551947 0.41417331 0.65860848]\n",
      " [0.40035488 0.12900614 0.69750305 0.87625593]\n",
      " [0.17621728 0.72155751 0.12970914 0.37917489]]\n"
     ]
    }
   ],
   "source": [
    "#2\n",
    "matrix =np.zeros((3,3))\n",
    "print(matrix)"
   ]
  },
  {
   "cell_type": "markdown",
   "id": "15abc5be",
   "metadata": {},
   "source": []
  },
  {
   "cell_type": "code",
   "execution_count": 11,
   "id": "53a70a88",
   "metadata": {},
   "outputs": [
    {
     "name": "stdout",
     "output_type": "stream",
     "text": [
      "[[ 7  8  9  6  4]\n",
      " [ 8  3  3  2 10]\n",
      " [ 7  5  5  1  1]\n",
      " [ 9  1  4  2  4]\n",
      " [ 9  2  8  9  8]]\n"
     ]
    }
   ],
   "source": [
    "#3\n",
    "matrix = np.random.randint(1, 11, size=(5, 5))\n",
    "print(matrix)"
   ]
  },
  {
   "cell_type": "code",
   "execution_count": 5,
   "id": "7d2e6da4",
   "metadata": {},
   "outputs": [
    {
     "name": "stdout",
     "output_type": "stream",
     "text": [
      "[[0.8602117  0.54477625 0.59986449 0.6538762 ]\n",
      " [0.2307966  0.10551947 0.41417331 0.65860848]\n",
      " [0.40035488 0.12900614 0.69750305 0.87625593]\n",
      " [0.17621728 0.72155751 0.12970914 0.37917489]]\n"
     ]
    }
   ],
   "source": [
    "#4\n",
    "matrix = np.random.random((4, 4))\n",
    "print(matrix)"
   ]
  },
  {
   "cell_type": "code",
   "execution_count": 7,
   "id": "e9566781",
   "metadata": {},
   "outputs": [
    {
     "name": "stdout",
     "output_type": "stream",
     "text": [
      "[4 8 6 6 4]\n",
      "[ 3  3 10  3  6]\n",
      "Addition: [ 7 11 16  9 10]\n",
      "Subtraction: [ 1  5 -4  3 -2]\n",
      "Multiplication: [12 24 60 18 24]\n"
     ]
    }
   ],
   "source": [
    "#5\n",
    "array1 = np.random.randint(1, 11, size=5)\n",
    "array2 = np.random.randint(1, 11, size=5)\n",
    "\n",
    "addition = array1 + array2\n",
    "subtraction = array1 - array2\n",
    "multiplication = array1 * array2\n",
    "\n",
    "print(array1)\n",
    "print(array2)\n",
    "print(\"Addition:\", addition)\n",
    "print(\"Subtraction:\", subtraction)\n",
    "print(\"Multiplication:\", multiplication)"
   ]
  },
  {
   "cell_type": "code",
   "execution_count": 8,
   "id": "29ddee94",
   "metadata": {},
   "outputs": [
    {
     "name": "stdout",
     "output_type": "stream",
     "text": [
      "Dot Product: 84\n"
     ]
    }
   ],
   "source": [
    "#6\n",
    "vector1 = np.array([1, 2, 3, 4, 5, 6, 7])\n",
    "vector2 = np.array([7, 6, 5, 4, 3, 2, 1])\n",
    "\n",
    "print(vector1)\n",
    "print(vector2)\n",
    "dot_product = np.dot(vector1, vector2)\n",
    "print(\"Dot Product:\", dot_product)"
   ]
  },
  {
   "cell_type": "code",
   "execution_count": 12,
   "id": "34c1fef7",
   "metadata": {},
   "outputs": [
    {
     "name": "stdout",
     "output_type": "stream",
     "text": [
      "[[52 68 18]\n",
      " [52 46 55]]\n"
     ]
    }
   ],
   "source": [
    "#7\n",
    "matrix1 = np.random.randint(1, 11, size=(2, 2))\n",
    "matrix2 = np.random.randint(1, 11, size=(2, 3))\n",
    "\n",
    "matrix_product = np.dot(matrix1, matrix2)\n",
    "print(matrix_product)"
   ]
  },
  {
   "cell_type": "code",
   "execution_count": 13,
   "id": "cd20382e",
   "metadata": {},
   "outputs": [
    {
     "name": "stdout",
     "output_type": "stream",
     "text": [
      "Matrix:\n",
      "[[ 9  1 10]\n",
      " [ 8  8  8]\n",
      " [ 6  7  2]]\n",
      "Inverse Matrix:\n",
      "[[ 0.16129032 -0.27419355  0.29032258]\n",
      " [-0.12903226  0.16935484 -0.03225806]\n",
      " [-0.03225806  0.22983871 -0.25806452]]\n"
     ]
    }
   ],
   "source": [
    "#8\n",
    "matrix = np.random.randint(1, 11, size=(3, 3))\n",
    "inverse_matrix = np.linalg.inv(matrix)\n",
    "\n",
    "print(\"Matrix:\")\n",
    "print(matrix)\n",
    "print(\"Inverse Matrix:\")\n",
    "print(inverse_matrix)"
   ]
  },
  {
   "cell_type": "code",
   "execution_count": 18,
   "id": "2c8e8500",
   "metadata": {},
   "outputs": [
    {
     "name": "stdout",
     "output_type": "stream",
     "text": [
      "[[0.60733251 0.29148219 0.10039797 0.63291391]\n",
      " [0.28840092 0.15089549 0.20716884 0.75645424]\n",
      " [0.33944374 0.28335502 0.81959594 0.49220486]\n",
      " [0.9500101  0.70955406 0.45602905 0.89332232]]\n",
      "[[0.60733251 0.28840092 0.33944374 0.9500101 ]\n",
      " [0.29148219 0.15089549 0.28335502 0.70955406]\n",
      " [0.10039797 0.20716884 0.81959594 0.45602905]\n",
      " [0.63291391 0.75645424 0.49220486 0.89332232]]\n"
     ]
    }
   ],
   "source": [
    "#9\n",
    "matrix = np.random.random((4,4))\n",
    "matrix_t = matrix.T\n",
    "print(matrix)\n",
    "print(matrix_t)"
   ]
  },
  {
   "cell_type": "code",
   "execution_count": 20,
   "id": "38c2e9ea",
   "metadata": {},
   "outputs": [
    {
     "name": "stdout",
     "output_type": "stream",
     "text": [
      "[184 147 175]\n"
     ]
    }
   ],
   "source": [
    "#10\n",
    "matrix = np.random.randint(1, 11, size=(3, 4))\n",
    "vector = np.random.randint(1, 11, size=4)\n",
    "\n",
    "matrix_vector_product = np.dot(matrix, vector)\n",
    "print(matrix_vector_product)"
   ]
  },
  {
   "cell_type": "code",
   "execution_count": 21,
   "id": "bee8394f",
   "metadata": {},
   "outputs": [
    {
     "name": "stdout",
     "output_type": "stream",
     "text": [
      "[0.77355559 0.83391122]\n"
     ]
    }
   ],
   "source": [
    "#11\n",
    "matrix = np.random.random((2,3))\n",
    "vector = np.random.random(3)\n",
    "\n",
    "matrix_vector_product = np.dot(matrix, vector)\n",
    "print(matrix_vector_product)"
   ]
  },
  {
   "cell_type": "code",
   "execution_count": 23,
   "id": "99c29571",
   "metadata": {},
   "outputs": [
    {
     "name": "stdout",
     "output_type": "stream",
     "text": [
      "[[28  4]\n",
      " [30 25]]\n"
     ]
    }
   ],
   "source": [
    "#12\n",
    "matrix_1 = np.random.randint(1, 11, size=(2, 2))\n",
    "matrix_2 = np.random.randint(1, 11, size=(2, 2))\n",
    "\n",
    "matrix_matrix_product = np.multiply(matrix_1, matrix_2)\n",
    "print(matrix_matrix_product)"
   ]
  },
  {
   "cell_type": "code",
   "execution_count": 24,
   "id": "5ee375f9",
   "metadata": {},
   "outputs": [
    {
     "name": "stdout",
     "output_type": "stream",
     "text": [
      "[[ 91 101]\n",
      " [105 111]]\n"
     ]
    }
   ],
   "source": [
    "#13\n",
    "matrix_1 = np.random.randint(1, 11, size=(2, 2))\n",
    "matrix_2 = np.random.randint(1, 11, size=(2, 2))\n",
    "\n",
    "matrix_matrix_product = np.dot(matrix_1, matrix_2)\n",
    "print(matrix_matrix_product)"
   ]
  },
  {
   "cell_type": "code",
   "execution_count": 26,
   "id": "9a83c5a8",
   "metadata": {},
   "outputs": [
    {
     "name": "stdout",
     "output_type": "stream",
     "text": [
      "Matrix:\n",
      "[[37 80 11 88 37]\n",
      " [53 91 85 25 77]\n",
      " [83 78 91 89 67]\n",
      " [23 19 33 69 34]\n",
      " [11 44 64 33 38]]\n",
      "Sum of Elements: 1360\n"
     ]
    }
   ],
   "source": [
    "#14\n",
    "matrix = np.random.randint(1, 101, size=(5, 5))\n",
    "sum_of_elements = np.sum(matrix)\n",
    "print(\"Matrix:\")\n",
    "print(matrix)\n",
    "print(\"Sum of Elements:\", sum_of_elements)"
   ]
  },
  {
   "cell_type": "code",
   "execution_count": 28,
   "id": "bd91d380",
   "metadata": {},
   "outputs": [
    {
     "name": "stdout",
     "output_type": "stream",
     "text": [
      "[[-1  4 -5  1]\n",
      " [ 0 -1  0 -1]\n",
      " [-3  4 -1  3]\n",
      " [-1 -2  5  2]]\n"
     ]
    }
   ],
   "source": [
    "#15\n",
    "matrix1 = np.random.randint(1, 11, size=(4, 4))\n",
    "matrix2 = np.random.randint(1, 11, size=(4, 4))\n",
    "\n",
    "difference = matrix1 - matrix2\n",
    "print(difference)\n"
   ]
  },
  {
   "cell_type": "code",
   "execution_count": 29,
   "id": "55ae6cd9",
   "metadata": {},
   "outputs": [
    {
     "name": "stdout",
     "output_type": "stream",
     "text": [
      "[[2.39494166]\n",
      " [2.03187594]\n",
      " [2.0634998 ]]\n"
     ]
    }
   ],
   "source": [
    "#16\n",
    "matrix = np.random.random((3, 3))\n",
    "row_sums = np.sum(matrix, axis=1)\n",
    "\n",
    "column_vector = row_sums.reshape((-1, 1))\n",
    "print(column_vector)"
   ]
  },
  {
   "cell_type": "code",
   "execution_count": 32,
   "id": "574602d1",
   "metadata": {},
   "outputs": [
    {
     "name": "stdout",
     "output_type": "stream",
     "text": [
      "Matrix:\n",
      "[[ 5  4 10  8]\n",
      " [ 1  6 10  6]\n",
      " [ 3  8  4  5]]\n",
      "Squared Matrix:\n",
      "[[ 25  16 100  64]\n",
      " [  1  36 100  36]\n",
      " [  9  64  16  25]]\n"
     ]
    }
   ],
   "source": [
    "#17\n",
    "matrix = np.random.randint(1, 11, size=(3, 4))\n",
    "squared_matrix = np.square(matrix)\n",
    "\n",
    "print(\"Matrix:\")\n",
    "print(matrix)\n",
    "print(\"Squared Matrix:\")\n",
    "print(squared_matrix)"
   ]
  },
  {
   "cell_type": "code",
   "execution_count": 33,
   "id": "630369e9",
   "metadata": {},
   "outputs": [
    {
     "name": "stdout",
     "output_type": "stream",
     "text": [
      "Vector:\n",
      "[28 42 30  8]\n",
      "Square Root Vector:\n",
      "[5.29150262 6.4807407  5.47722558 2.82842712]\n"
     ]
    }
   ],
   "source": [
    "#18\n",
    "vector = np.random.randint(1, 51, size=4)\n",
    "sqrt_vector = np.sqrt(vector)\n",
    "\n",
    "print(\"Vector:\")\n",
    "print(vector)\n",
    "print(\"Square Root Vector:\")\n",
    "print(sqrt_vector)"
   ]
  },
  {
   "cell_type": "code",
   "execution_count": null,
   "id": "5869e521",
   "metadata": {},
   "outputs": [],
   "source": []
  }
 ],
 "metadata": {
  "kernelspec": {
   "display_name": "Python 3 (ipykernel)",
   "language": "python",
   "name": "python3"
  },
  "language_info": {
   "codemirror_mode": {
    "name": "ipython",
    "version": 3
   },
   "file_extension": ".py",
   "mimetype": "text/x-python",
   "name": "python",
   "nbconvert_exporter": "python",
   "pygments_lexer": "ipython3",
   "version": "3.10.4"
  }
 },
 "nbformat": 4,
 "nbformat_minor": 5
}
