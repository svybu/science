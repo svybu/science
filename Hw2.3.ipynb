{
 "cells": [
  {
   "cell_type": "code",
   "execution_count": 1,
   "id": "72fddd46",
   "metadata": {},
   "outputs": [
    {
     "name": "stdout",
     "output_type": "stream",
     "text": [
      "                                                Name  \\\n",
      "0                      10-Day Green Smoothie Cleanse   \n",
      "1                                  11/22/63: A Novel   \n",
      "2            12 Rules for Life: An Antidote to Chaos   \n",
      "3                             1984 (Signet Classics)   \n",
      "4  5,000 Awesome Facts (About Everything!) (Natio...   \n",
      "\n",
      "                     Author  User Rating  Reviews  Price  Year        Genre  \n",
      "0                  JJ Smith          4.7    17350      8  2016  Non Fiction  \n",
      "1              Stephen King          4.6     2052     22  2011      Fiction  \n",
      "2        Jordan B. Peterson          4.7    18979     15  2018  Non Fiction  \n",
      "3             George Orwell          4.7    21424      6  2017      Fiction  \n",
      "4  National Geographic Kids          4.8     7665     12  2019  Non Fiction  \n",
      "(550, 7)\n"
     ]
    }
   ],
   "source": [
    "%matplotlib inline\n",
    "import pandas as pd\n",
    "import matplotlib.pyplot as plt\n",
    "\n",
    "#Прочитайте файл 2017_jun_final.csv за допомогою методу read_csv\n",
    "df = pd.read_csv(\"bestsellers_with_categories.csv\")\n",
    "print(df.head())\n",
    "print(df.shape)\n",
    "#Відповідь: Про скільки книг зберігає дані датасет? - 551"
   ]
  },
  {
   "cell_type": "code",
   "execution_count": 2,
   "id": "2bf804ef",
   "metadata": {},
   "outputs": [],
   "source": [
    "df.columns = ['name', 'author', 'user_rating', 'reviews', 'price', 'year', 'genre']"
   ]
  },
  {
   "cell_type": "code",
   "execution_count": 3,
   "id": "bf8b5794",
   "metadata": {},
   "outputs": [
    {
     "name": "stdout",
     "output_type": "stream",
     "text": [
      "name           0\n",
      "author         0\n",
      "user_rating    0\n",
      "reviews        0\n",
      "price          0\n",
      "year           0\n",
      "genre          0\n",
      "dtype: int64\n"
     ]
    }
   ],
   "source": [
    "missing_counts = df.isna().sum()\n",
    "print(missing_counts)\n",
    "#Відповідь: Чи є в якихось змінних пропуски? (ні)"
   ]
  },
  {
   "cell_type": "code",
   "execution_count": 4,
   "id": "dbffec97",
   "metadata": {},
   "outputs": [
    {
     "name": "stdout",
     "output_type": "stream",
     "text": [
      "['Non Fiction' 'Fiction']\n"
     ]
    }
   ],
   "source": [
    "unique_values = df['genre'].unique()\n",
    "print(unique_values)\n",
    "#Відповідь: Які є унікальні жанри? - 'Non Fiction' 'Fiction'"
   ]
  },
  {
   "cell_type": "code",
   "execution_count": 5,
   "id": "09533610",
   "metadata": {},
   "outputs": [
    {
     "data": {
      "image/png": "[encoded data removed]",
      "text/plain": [
       "<Figure size 640x480 with 1 Axes>"
      ]
     },
     "metadata": {},
     "output_type": "display_data"
    }
   ],
   "source": [
    "df['price'].plot(kind='hist')\n",
    "plt.xlabel('Ціна')\n",
    "plt.ylabel('Частота')\n",
    "plt.title('Розподіл цін')\n",
    "plt.show()"
   ]
  },
  {
   "cell_type": "code",
   "execution_count": 6,
   "id": "6f49c341",
   "metadata": {},
   "outputs": [
    {
     "name": "stdout",
     "output_type": "stream",
     "text": [
      "Максимальна ціна: 105\n",
      "Мінімальна ціна: 0\n",
      "Середня ціна: 13.1\n",
      "Медіанна ціна: 11.0\n"
     ]
    }
   ],
   "source": [
    "max_price = df['price'].max()\n",
    "min_price = df['price'].min()\n",
    "mean_price = df['price'].mean()\n",
    "median_price = df['price'].median()\n",
    "\n",
    "print(\"Максимальна ціна:\", max_price)\n",
    "print(\"Мінімальна ціна:\", min_price)\n",
    "print(\"Середня ціна:\", mean_price)\n",
    "print(\"Медіанна ціна:\", median_price)\n"
   ]
  },
  {
   "cell_type": "code",
   "execution_count": 7,
   "id": "2ef75bf2",
   "metadata": {},
   "outputs": [
    {
     "name": "stdout",
     "output_type": "stream",
     "text": [
      "4.9\n"
     ]
    }
   ],
   "source": [
    "#Відповідь: Який рейтинг у датасеті найвищий? Відповідь:\n",
    "max_rate = df['user_rating'].max()\n",
    "print(max_rate)"
   ]
  },
  {
   "cell_type": "code",
   "execution_count": 8,
   "id": "769c0ca7",
   "metadata": {},
   "outputs": [
    {
     "name": "stdout",
     "output_type": "stream",
     "text": [
      "Кількість книг з найвищим рейтингом: 52\n"
     ]
    }
   ],
   "source": [
    "#Відповідь: Скільки книг мають такий рейтинг? Відповідь:\n",
    "books_with_max_rating = df[df['user_rating'] == max_rate].shape[0]\n",
    "print(\"Кількість книг з найвищим рейтингом:\", books_with_max_rating)"
   ]
  },
  {
   "cell_type": "code",
   "execution_count": 9,
   "id": "c7fbc882",
   "metadata": {},
   "outputs": [
    {
     "name": "stdout",
     "output_type": "stream",
     "text": [
      "Назва книги: Where the Crawdads Sing\n"
     ]
    }
   ],
   "source": [
    "#Відповідь: Яка книга має найбільше відгуків? Відповідь:\n",
    "book_with_max_reviews = df.loc[df['reviews'].idxmax(), 'name']\n",
    "print(\"Назва книги:\", book_with_max_reviews)"
   ]
  },
  {
   "cell_type": "code",
   "execution_count": 10,
   "id": "54625364",
   "metadata": {},
   "outputs": [
    {
     "name": "stdout",
     "output_type": "stream",
     "text": [
      "Книга з найвищою ціною серед Топ-50 у 2015 році:\n",
      "Назва книги: Publication Manual of the American Psychological Association, 6th Edition\n",
      "Ціна: 46\n"
     ]
    }
   ],
   "source": [
    "#Відповідь: З тих книг, що потрапили до Топ-50 у 2015 році, яка книга найдорожча (можна використати проміжний датафрейм)? Відповідь:\n",
    "top_50_2015 = df.loc[df['year'] == 2015, ['name', 'price']]\n",
    "max_price = top_50_2015['price'].max()\n",
    "book_with_max_price = top_50_2015.loc[top_50_2015['price'] == max_price, 'name'].values[0]\n",
    "\n",
    "print(\"Книга з найвищою ціною серед Топ-50 у 2015 році:\")\n",
    "print(\"Назва книги:\", book_with_max_price)\n",
    "print(\"Ціна:\", max_price)"
   ]
  },
  {
   "cell_type": "code",
   "execution_count": 11,
   "id": "7ac1bec8",
   "metadata": {},
   "outputs": [
    {
     "name": "stdout",
     "output_type": "stream",
     "text": [
      "Кількість книг жанру Fiction у Топ-50 у 2010 році: 20\n"
     ]
    },
    {
     "data": {
      "image/png": "[encoded data removed]",
      "text/plain": [
       "<Figure size 640x480 with 1 Axes>"
      ]
     },
     "metadata": {},
     "output_type": "display_data"
    }
   ],
   "source": [
    "#Відповідь: Скільки книг жанру Fiction потрапили до Топ-50 у 2010 році (використовуйте &)? Відповідь:\n",
    "fiction_books_2010 = df[(df['genre'] == 'Fiction') & (df['year'] == 2010)]\n",
    "num_fiction_books_2010 = len(fiction_books_2010)\n",
    "\n",
    "print(\"Кількість книг жанру Fiction у Топ-50 у 2010 році:\", num_fiction_books_2010)\n",
    "labels = ['Fiction', 'Non-Fiction']\n",
    "sizes = [num_fiction_books_2010, 50 - num_fiction_books_2010]\n",
    "colors = ['blue', 'gray']\n",
    "\n",
    "plt.pie(sizes,  labels=labels, autopct='%1.1f%%', startangle=90)\n",
    "plt.axis('equal') \n",
    "plt.title(\"Розподіл книг у Топ-50 за жанром у 2010 році\")\n",
    "\n",
    "plt.show()"
   ]
  },
  {
   "cell_type": "code",
   "execution_count": 12,
   "id": "c993776c",
   "metadata": {},
   "outputs": [
    {
     "name": "stdout",
     "output_type": "stream",
     "text": [
      "Кількість книг з рейтингом 4.9 у рейтингу 2010 та 2011 років: 1\n"
     ]
    }
   ],
   "source": [
    "#Відповідь: Скільки книг з рейтингом 4.9 потрапило до рейтингу у 2010 та 2011 роках (використовуйте | або функцію isin)? Відповідь:\n",
    "years = [2010, 2011]\n",
    "rating_4_9_books = df[(df['user_rating'] == 4.9) & (df['year'].isin(years))]\n",
    "num_rating_4_9_books = len(rating_4_9_books)\n",
    "\n",
    "print(\"Кількість книг з рейтингом 4.9 у рейтингу 2010 та 2011 років:\", num_rating_4_9_books)"
   ]
  },
  {
   "cell_type": "code",
   "execution_count": 13,
   "id": "0a90c9c7",
   "metadata": {},
   "outputs": [
    {
     "name": "stdout",
     "output_type": "stream",
     "text": [
      "Назва останньої книги у відсортованому списку: Old School (Diary of a Wimpy Kid #10)\n"
     ]
    }
   ],
   "source": [
    "#І насамкінець, давайте відсортуємо за зростанням ціни всі книги, які потрапили до рейтингу в 2015 році і коштують дешевше за 8 доларів (використовуйте функцію sort_values).\n",
    "#Відповідь: Яка книга остання у відсортованому списку? Відповідь:\n",
    "\n",
    "sorted_books = df[(df['year'] == 2015) & (df['price'] < 8)].sort_values('price', ascending=True)\n",
    "\n",
    "last_book = sorted_books.iloc[-1]['name']\n",
    "\n",
    "print(\"Назва останньої книги у відсортованому списку:\", last_book)"
   ]
  },
  {
   "cell_type": "code",
   "execution_count": 14,
   "id": "dfdf3366",
   "metadata": {},
   "outputs": [
    {
     "name": "stdout",
     "output_type": "stream",
     "text": [
      "Максимальна ціна для жанру Fiction: 82\n"
     ]
    }
   ],
   "source": [
    "#Для початку давайте подивимося на максимальну та мінімальну ціни для кожного з жанрів (використовуйте функції groupby та agg, для підрахунку мінімальних та максимальних значень використовуйте max та min). Не беріть усі стовпці, виберіть тільки потрібні вам\n",
    "\n",
    "#Відповідь: Максимальна ціна для жанру Fiction: Відповідь\n",
    "max_prices = df.groupby('genre')['price'].max()\n",
    "max_price_fiction  = max_prices['Fiction']\n",
    "print(\"Максимальна ціна для жанру Fiction:\", max_price_fiction)"
   ]
  },
  {
   "cell_type": "code",
   "execution_count": 15,
   "id": "3be23d23",
   "metadata": {},
   "outputs": [
    {
     "name": "stdout",
     "output_type": "stream",
     "text": [
      "Мінімальна ціна для жанру Fiction: 0\n"
     ]
    }
   ],
   "source": [
    "#Відповідь: Мінімальна ціна для жанру Fiction: Відповідь\n",
    "min_prices = df.groupby('genre')['price'].min()\n",
    "min_price_fiction  = min_prices['Fiction']\n",
    "print(\"Мінімальна ціна для жанру Fiction:\", min_price_fiction)"
   ]
  },
  {
   "cell_type": "code",
   "execution_count": 16,
   "id": "64ed0cc3",
   "metadata": {},
   "outputs": [
    {
     "name": "stdout",
     "output_type": "stream",
     "text": [
      "Максимальна ціна для жанру Non Fiction: 82\n"
     ]
    }
   ],
   "source": [
    "#Відповідь: Максимальна ціна для жанру Non Fiction: Відповідь\n",
    "max_prices = df.groupby('genre')['price'].max()\n",
    "max_price_non_fiction  = max_prices['Non Fiction']\n",
    "print(\"Максимальна ціна для жанру Non Fiction:\", max_price_fiction)"
   ]
  },
  {
   "cell_type": "code",
   "execution_count": 17,
   "id": "af7a7c29",
   "metadata": {},
   "outputs": [
    {
     "name": "stdout",
     "output_type": "stream",
     "text": [
      "Мінімальна ціна для жанру Non Fiction: 0\n"
     ]
    }
   ],
   "source": [
    "#Відповідь: Мінімальна ціна для жанру Non Fiction: Відповідь\n",
    "min_prices = df.groupby('genre')['price'].min()\n",
    "min_price_fiction  = min_prices['Non Fiction']\n",
    "print(\"Мінімальна ціна для жанру Non Fiction:\", min_price_fiction)"
   ]
  },
  {
   "cell_type": "code",
   "execution_count": 18,
   "id": "35979e15",
   "metadata": {},
   "outputs": [
    {
     "name": "stdout",
     "output_type": "stream",
     "text": [
      "                         author  book_count\n",
      "0              Abraham Verghese           2\n",
      "1                Adam Gasiewski           1\n",
      "2                 Adam Mansbach           1\n",
      "3                     Adir Levy           1\n",
      "4    Admiral William H. McRaven           1\n",
      "..                          ...         ...\n",
      "243             Walter Isaacson           3\n",
      "244               William Davis           2\n",
      "245            William P. Young           2\n",
      "246            Wizards RPG Team           3\n",
      "247                Zhi Gang Sha           2\n",
      "\n",
      "[248 rows x 2 columns]\n"
     ]
    }
   ],
   "source": [
    "#Тепер створіть новий датафрейм, який вміщатиме кількість книг для кожного з авторів (використовуйте функції groupby та agg, для підрахунку кількості використовуйте count). Не беріть усі стовпці, виберете тільки потрібні\n",
    "\n",
    "book_counts = df.groupby('author')['name'].count()\n",
    "\n",
    "# Створення нового датафрейму з кількістю книг для кожного автора\n",
    "author_counts = pd.DataFrame({'author': book_counts.index, 'book_count': book_counts.values})\n",
    "\n",
    "print(author_counts)\n"
   ]
  },
  {
   "cell_type": "code",
   "execution_count": 19,
   "id": "6917696d",
   "metadata": {},
   "outputs": [
    {
     "name": "stdout",
     "output_type": "stream",
     "text": [
      "Розмірність таблиці:  (248, 2)\n"
     ]
    }
   ],
   "source": [
    "#Відповідь: Якої розмірності вийшла таблиця? Відповідь:\n",
    "print(\"Розмірність таблиці: \", author_counts.shape)"
   ]
  },
  {
   "cell_type": "code",
   "execution_count": 20,
   "id": "55cce9ae",
   "metadata": {},
   "outputs": [
    {
     "name": "stdout",
     "output_type": "stream",
     "text": [
      "Який автор має найбільше книг? Відповідь:  Jeff Kinney\n"
     ]
    },
    {
     "data": {
      "image/png": "[encoded data removed]",
      "text/plain": [
       "<Figure size 640x480 with 1 Axes>"
      ]
     },
     "metadata": {},
     "output_type": "display_data"
    }
   ],
   "source": [
    "#Відповідь: Який автор має найбільше книг? Відповідь:\n",
    "max_author = author_counts[author_counts['book_count'] == author_counts['book_count'].max()]\n",
    "max_author_name = max_author['author'].values[0]\n",
    "print('Який автор має найбільше книг? Відповідь: ',max_author_name)\n",
    "top_10_authors = author_counts.nlargest(10, 'book_count')\n",
    "labels = top_10_authors['author']\n",
    "sizes = top_10_authors['book_count']\n",
    "\n",
    "plt.pie(sizes, labels=labels,autopct='%1.1f%%', startangle=90)\n",
    "plt.title(\"Розподіл кількості книг за авторами (Топ-10)\")\n",
    "\n",
    "plt.show()"
   ]
  },
  {
   "cell_type": "code",
   "execution_count": 21,
   "id": "34810b81",
   "metadata": {},
   "outputs": [
    {
     "name": "stdout",
     "output_type": "stream",
     "text": [
      "Скільки книг цього автора? Відповідь:  12\n"
     ]
    }
   ],
   "source": [
    "#Відповідь: Скільки книг цього автора? Відповідь:\n",
    "\n",
    "max_author_books = max_author['book_count'].values[0]\n",
    "\n",
    "print(\"Скільки книг цього автора? Відповідь: \", max_author_books)\n"
   ]
  },
  {
   "cell_type": "code",
   "execution_count": 22,
   "id": "b2476499",
   "metadata": {},
   "outputs": [
    {
     "name": "stdout",
     "output_type": "stream",
     "text": [
      "                       author  user_rating\n",
      "0            Abraham Verghese          4.6\n",
      "1              Adam Gasiewski          4.4\n",
      "2               Adam Mansbach          4.8\n",
      "3                   Adir Levy          4.8\n",
      "4  Admiral William H. McRaven          4.7\n"
     ]
    }
   ],
   "source": [
    "#Тепер створіть другий датафрейм, який буде вміщати середній рейтинг для кожного автора (використовуйте функції groupby та agg, для підрахунку середнього значення використовуйте mean). Не беріть усі стовпці, виберете тільки потрібні\n",
    "avg_rating = df.groupby('author').agg({'user_rating': 'mean'}).reset_index()\n",
    "print(avg_rating.head())"
   ]
  },
  {
   "cell_type": "code",
   "execution_count": 23,
   "id": "8cfb2784",
   "metadata": {},
   "outputs": [
    {
     "name": "stdout",
     "output_type": "stream",
     "text": [
      "У якого автора середній рейтинг мінімальний? Відповідь:  Donna Tartt\n"
     ]
    }
   ],
   "source": [
    "#Відповідь: У якого автора середній рейтинг мінімальний? Відповідь:\n",
    "min_rating_author = avg_rating[avg_rating['user_rating']==avg_rating['user_rating'].min()]\n",
    "#print(min_rating_author)\n",
    "print('У якого автора середній рейтинг мінімальний? Відповідь: ', min_rating_author.values[0][0])"
   ]
  },
  {
   "cell_type": "code",
   "execution_count": 24,
   "id": "c1abd50c",
   "metadata": {},
   "outputs": [
    {
     "name": "stdout",
     "output_type": "stream",
     "text": [
      "Який у цього автора середній рейтинг? Відповідь: 3.9\n"
     ]
    }
   ],
   "source": [
    "#Відповідь: Який у цього автора середній рейтинг? Відповідь:\n",
    "print('Який у цього автора середній рейтинг? Відповідь:', min_rating_author.values[0][1])"
   ]
  },
  {
   "cell_type": "code",
   "execution_count": 25,
   "id": "bb15d40e",
   "metadata": {},
   "outputs": [
    {
     "name": "stdout",
     "output_type": "stream",
     "text": [
      "                       author  book_count  user_rating\n",
      "0            Abraham Verghese           2          4.6\n",
      "1              Adam Gasiewski           1          4.4\n",
      "2               Adam Mansbach           1          4.8\n",
      "3                   Adir Levy           1          4.8\n",
      "4  Admiral William H. McRaven           1          4.7\n"
     ]
    }
   ],
   "source": [
    "#З'єднайте останні два датафрейми так, щоб для кожного автора було видно кількість книг та середній рейтинг (Використовуйте функцію concat з параметром axis=1). Збережіть результат у змінну\n",
    "merged_df = pd.concat([author_counts, avg_rating['user_rating']], axis=1)\n",
    "print(merged_df.head())\n"
   ]
  },
  {
   "cell_type": "code",
   "execution_count": 26,
   "id": "ba6b6b07",
   "metadata": {},
   "outputs": [
    {
     "name": "stdout",
     "output_type": "stream",
     "text": [
      "                author  book_count  user_rating\n",
      "171     Muriel Barbery           1          4.0\n",
      "43        Chris Cleave           1          4.1\n",
      "109  Ian K. Smith M.D.           1          4.1\n",
      "186       Pierre Dukan           1          4.1\n",
      "81    Elizabeth Strout           1          4.2\n"
     ]
    }
   ],
   "source": [
    "#Відсортуйте датафрейм за зростаючою кількістю книг та зростаючим рейтингом (використовуйте функцію sort_values)\n",
    "sorted_df = merged_df.sort_values(by=['book_count', 'user_rating'])\n",
    "print(sorted_df.head())\n"
   ]
  },
  {
   "cell_type": "code",
   "execution_count": 27,
   "id": "e10cf627",
   "metadata": {},
   "outputs": [
    {
     "name": "stdout",
     "output_type": "stream",
     "text": [
      "Відповідь: Який автор перший у списку?:  Muriel Barbery\n"
     ]
    }
   ],
   "source": [
    "#Відповідь: Який автор перший у списку?\n",
    "\n",
    "print('Відповідь: Який автор перший у списку?: ',sorted_df.iloc[0]['author'])"
   ]
  },
  {
   "cell_type": "code",
   "execution_count": null,
   "id": "8ecde2cb",
   "metadata": {},
   "outputs": [],
   "source": []
  }
 ],
 "metadata": {
  "kernelspec": {
   "display_name": "Python 3 (ipykernel)",
   "language": "python",
   "name": "python3"
  },
  "language_info": {
   "codemirror_mode": {
    "name": "ipython",
    "version": 3
   },
   "file_extension": ".py",
   "mimetype": "text/x-python",
   "name": "python",
   "nbconvert_exporter": "python",
   "pygments_lexer": "ipython3",
   "version": "3.10.4"
  }
 },
 "nbformat": 4,
 "nbformat_minor": 5
}
