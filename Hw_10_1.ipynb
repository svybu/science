{
 "cells": [
  {
   "cell_type": "code",
   "execution_count": 1,
   "id": "50bf5b4d",
   "metadata": {},
   "outputs": [],
   "source": [
    "import numpy as np\n",
    "import matplotlib.pyplot as plt\n",
    "\n",
    "import tensorflow as tf\n",
    "from tensorflow.keras import layers, models\n",
    "from tensorflow.keras.datasets import fashion_mnist\n",
    "from tensorflow.keras.utils import to_categorical\n",
    "\n"
   ]
  },
  {
   "cell_type": "code",
   "execution_count": 2,
   "id": "efa11731",
   "metadata": {},
   "outputs": [],
   "source": [
    "(train_images, train_labels), (test_images, test_labels) = fashion_mnist.load_data()\n",
    "\n",
    "# Масштабуємо зображення до діапазону [0, 1]\n",
    "train_images = train_images.reshape((60000, 28, 28, 1)).astype('float32') / 255\n",
    "test_images = test_images.reshape((10000, 28, 28, 1)).astype('float32') / 255\n",
    "\n",
    "# Кодуємо мітки у формат one-hot\n",
    "train_labels = to_categorical(train_labels)\n",
    "test_labels = to_categorical(test_labels)\n"
   ]
  },
  {
   "cell_type": "code",
   "execution_count": 3,
   "id": "24269a6e",
   "metadata": {},
   "outputs": [],
   "source": [
    "model = models.Sequential()\n",
    "model.add(layers.Conv2D(32, (3, 3), activation='relu', input_shape=(28, 28, 1)))\n",
    "model.add(layers.MaxPooling2D((2, 2)))\n",
    "model.add(layers.Conv2D(64, (3, 3), activation='relu'))\n",
    "model.add(layers.MaxPooling2D((2, 2)))\n",
    "model.add(layers.Conv2D(64, (3, 3), activation='relu'))\n",
    "\n",
    "model.add(layers.Flatten())\n",
    "model.add(layers.Dense(64, activation='relu'))\n",
    "model.add(layers.Dense(10, activation='softmax'))\n",
    "\n",
    "model.compile(optimizer='adam',\n",
    "              loss='categorical_crossentropy',\n",
    "              metrics=['accuracy'])\n"
   ]
  },
  {
   "cell_type": "code",
   "execution_count": 4,
   "id": "548483ac",
   "metadata": {},
   "outputs": [
    {
     "name": "stdout",
     "output_type": "stream",
     "text": [
      "Epoch 1/20\n",
      "938/938 [==============================] - 35s 36ms/step - loss: 0.5232 - accuracy: 0.8097 - val_loss: 0.3817 - val_accuracy: 0.8607\n",
      "Epoch 2/20\n",
      "938/938 [==============================] - 33s 35ms/step - loss: 0.3297 - accuracy: 0.8807 - val_loss: 0.3668 - val_accuracy: 0.8665\n",
      "Epoch 3/20\n",
      "938/938 [==============================] - 38s 41ms/step - loss: 0.2848 - accuracy: 0.8953 - val_loss: 0.3047 - val_accuracy: 0.8917\n",
      "Epoch 4/20\n",
      "938/938 [==============================] - 34s 36ms/step - loss: 0.2564 - accuracy: 0.9064 - val_loss: 0.2913 - val_accuracy: 0.8944\n",
      "Epoch 5/20\n",
      "938/938 [==============================] - 31s 33ms/step - loss: 0.2339 - accuracy: 0.9153 - val_loss: 0.2687 - val_accuracy: 0.9031\n",
      "Epoch 6/20\n",
      "938/938 [==============================] - 31s 33ms/step - loss: 0.2137 - accuracy: 0.9207 - val_loss: 0.2645 - val_accuracy: 0.9034\n",
      "Epoch 7/20\n",
      "938/938 [==============================] - 30s 32ms/step - loss: 0.1949 - accuracy: 0.9279 - val_loss: 0.2577 - val_accuracy: 0.9058\n",
      "Epoch 8/20\n",
      "938/938 [==============================] - 30s 32ms/step - loss: 0.1808 - accuracy: 0.9333 - val_loss: 0.2765 - val_accuracy: 0.8982\n",
      "Epoch 9/20\n",
      "938/938 [==============================] - 33s 35ms/step - loss: 0.1663 - accuracy: 0.9379 - val_loss: 0.2481 - val_accuracy: 0.9097\n",
      "Epoch 10/20\n",
      "938/938 [==============================] - 32s 34ms/step - loss: 0.1508 - accuracy: 0.9439 - val_loss: 0.2618 - val_accuracy: 0.9100\n",
      "Epoch 11/20\n",
      "938/938 [==============================] - 31s 33ms/step - loss: 0.1373 - accuracy: 0.9490 - val_loss: 0.2692 - val_accuracy: 0.9140\n",
      "Epoch 12/20\n",
      "938/938 [==============================] - 31s 34ms/step - loss: 0.1289 - accuracy: 0.9516 - val_loss: 0.2840 - val_accuracy: 0.9097\n",
      "Epoch 13/20\n",
      "938/938 [==============================] - 31s 33ms/step - loss: 0.1177 - accuracy: 0.9553 - val_loss: 0.2864 - val_accuracy: 0.9113\n",
      "Epoch 14/20\n",
      "938/938 [==============================] - 31s 33ms/step - loss: 0.1093 - accuracy: 0.9590 - val_loss: 0.2810 - val_accuracy: 0.9114\n",
      "Epoch 15/20\n",
      "938/938 [==============================] - 31s 33ms/step - loss: 0.0993 - accuracy: 0.9618 - val_loss: 0.3318 - val_accuracy: 0.9077\n",
      "Epoch 16/20\n",
      "938/938 [==============================] - 31s 33ms/step - loss: 0.0916 - accuracy: 0.9643 - val_loss: 0.3231 - val_accuracy: 0.9108\n",
      "Epoch 17/20\n",
      "938/938 [==============================] - 31s 33ms/step - loss: 0.0850 - accuracy: 0.9681 - val_loss: 0.3456 - val_accuracy: 0.9075\n",
      "Epoch 18/20\n",
      "938/938 [==============================] - 31s 33ms/step - loss: 0.0812 - accuracy: 0.9694 - val_loss: 0.3534 - val_accuracy: 0.9113\n",
      "Epoch 19/20\n",
      "938/938 [==============================] - 32s 34ms/step - loss: 0.0747 - accuracy: 0.9720 - val_loss: 0.3631 - val_accuracy: 0.9132\n",
      "Epoch 20/20\n",
      "938/938 [==============================] - 32s 35ms/step - loss: 0.0665 - accuracy: 0.9748 - val_loss: 0.3776 - val_accuracy: 0.9074\n"
     ]
    }
   ],
   "source": [
    "history = model.fit(train_images, train_labels, epochs=20, batch_size=64, validation_data=(test_images, test_labels))\n"
   ]
  },
  {
   "cell_type": "code",
   "execution_count": 5,
   "id": "e1479b24",
   "metadata": {},
   "outputs": [
    {
     "name": "stdout",
     "output_type": "stream",
     "text": [
      "313/313 [==============================] - 2s 6ms/step - loss: 0.3776 - accuracy: 0.9074\n",
      "Test accuracy: 0.9074000120162964\n"
     ]
    }
   ],
   "source": [
    "test_loss, test_acc = model.evaluate(test_images, test_labels)\n",
    "print(f\"Test accuracy: {test_acc}\")\n"
   ]
  },
  {
   "cell_type": "code",
   "execution_count": 6,
   "id": "dfa9c31b",
   "metadata": {},
   "outputs": [
    {
     "name": "stdout",
     "output_type": "stream",
     "text": [
      "313/313 [==============================] - 2s 6ms/step\n",
      "              precision    recall  f1-score   support\n",
      "\n",
      "           0       0.83      0.88      0.86      1000\n",
      "           1       0.99      0.98      0.98      1000\n",
      "           2       0.85      0.86      0.85      1000\n",
      "           3       0.95      0.86      0.90      1000\n",
      "           4       0.83      0.89      0.86      1000\n",
      "           5       0.97      0.98      0.98      1000\n",
      "           6       0.75      0.71      0.73      1000\n",
      "           7       0.96      0.96      0.96      1000\n",
      "           8       0.97      0.98      0.98      1000\n",
      "           9       0.97      0.96      0.97      1000\n",
      "\n",
      "    accuracy                           0.91     10000\n",
      "   macro avg       0.91      0.91      0.91     10000\n",
      "weighted avg       0.91      0.91      0.91     10000\n",
      "\n"
     ]
    }
   ],
   "source": [
    "from sklearn.metrics import classification_report\n",
    "\n",
    "# Отримання передбачень\n",
    "predicted_probs = model.predict(test_images)\n",
    "predicted_labels = np.argmax(predicted_probs, axis=1)\n",
    "\n",
    "# Перетворення реальних міток\n",
    "true_labels = np.argmax(test_labels, axis=1)\n",
    "\n",
    "# Отримання звіту про класифікацію\n",
    "report = classification_report(true_labels, predicted_labels)\n",
    "print(report)\n"
   ]
  }
 ],
 "metadata": {
  "kernelspec": {
   "display_name": "Python 3 (ipykernel)",
   "language": "python",
   "name": "python3"
  },
  "language_info": {
   "codemirror_mode": {
    "name": "ipython",
    "version": 3
   },
   "file_extension": ".py",
   "mimetype": "text/x-python",
   "name": "python",
   "nbconvert_exporter": "python",
   "pygments_lexer": "ipython3",
   "version": "3.10.4"
  }
 },
 "nbformat": 4,
 "nbformat_minor": 5
}
