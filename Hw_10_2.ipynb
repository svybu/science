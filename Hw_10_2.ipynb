{
 "cells": [
  {
   "cell_type": "code",
   "execution_count": 1,
   "id": "2f121639",
   "metadata": {},
   "outputs": [],
   "source": [
    "import numpy as np\n",
    "import matplotlib.pyplot as plt\n",
    "\n",
    "import tensorflow as tf\n",
    "from tensorflow.keras import layers, models\n",
    "from tensorflow.keras.datasets import fashion_mnist\n",
    "from tensorflow.keras.utils import to_categorical\n",
    "\n",
    "\n",
    "from tensorflow.keras.applications import VGG16\n",
    "\n",
    "# Завантаження VGG16 моделі\n",
    "base_model = VGG16(weights='imagenet', include_top=False, input_shape=(32, 32, 3))\n",
    "base_model.trainable = False\n"
   ]
  },
  {
   "cell_type": "code",
   "execution_count": 2,
   "id": "13af0fc7",
   "metadata": {},
   "outputs": [],
   "source": [
    "(train_images, train_labels), (test_images, test_labels) = fashion_mnist.load_data()\n",
    "\n",
    "# Масштабуємо зображення до діапазону [0, 1]\n",
    "train_images = train_images.reshape((60000, 28, 28, 1)).astype('float32') / 255\n",
    "test_images = test_images.reshape((10000, 28, 28, 1)).astype('float32') / 255\n",
    "\n",
    "# Кодуємо мітки у формат one-hot\n",
    "train_labels = to_categorical(train_labels)\n",
    "test_labels = to_categorical(test_labels)\n"
   ]
  },
  {
   "cell_type": "code",
   "execution_count": 3,
   "id": "4c6436bd",
   "metadata": {},
   "outputs": [],
   "source": [
    "import numpy as np\n",
    "from tensorflow.image import resize\n",
    "\n",
    "# Збільшення розміру зображень\n",
    "train_images_resized = resize(train_images, [32, 32])\n",
    "test_images_resized = resize(test_images, [32, 32])\n",
    "\n",
    "# Конвертація до RGB\n",
    "train_images_rgb = np.repeat(train_images_resized, 3, -1)\n",
    "test_images_rgb = np.repeat(test_images_resized, 3, -1)\n"
   ]
  },
  {
   "cell_type": "code",
   "execution_count": 4,
   "id": "75335a5a",
   "metadata": {},
   "outputs": [
    {
     "name": "stdout",
     "output_type": "stream",
     "text": [
      "Epoch 1/20\n",
      "938/938 [==============================] - 78s 82ms/step - loss: 0.3283 - acc: 0.3934 - val_loss: 0.1932 - val_acc: 0.6242\n",
      "Epoch 2/20\n",
      "938/938 [==============================] - 78s 83ms/step - loss: 0.1678 - acc: 0.6823 - val_loss: 0.1534 - val_acc: 0.6973\n",
      "Epoch 3/20\n",
      "938/938 [==============================] - 76s 81ms/step - loss: 0.1407 - acc: 0.7193 - val_loss: 0.1354 - val_acc: 0.7233\n",
      "Epoch 4/20\n",
      "938/938 [==============================] - 74s 79ms/step - loss: 0.1272 - acc: 0.7404 - val_loss: 0.1269 - val_acc: 0.7366\n",
      "Epoch 5/20\n",
      "938/938 [==============================] - 76s 81ms/step - loss: 0.1187 - acc: 0.7592 - val_loss: 0.1197 - val_acc: 0.7575\n",
      "Epoch 6/20\n",
      "938/938 [==============================] - 86s 92ms/step - loss: 0.1128 - acc: 0.7724 - val_loss: 0.1153 - val_acc: 0.7623\n",
      "Epoch 7/20\n",
      "938/938 [==============================] - 87s 93ms/step - loss: 0.1081 - acc: 0.7815 - val_loss: 0.1091 - val_acc: 0.7783\n",
      "Epoch 8/20\n",
      "938/938 [==============================] - 87s 92ms/step - loss: 0.1040 - acc: 0.7893 - val_loss: 0.1070 - val_acc: 0.7811\n",
      "Epoch 9/20\n",
      "938/938 [==============================] - 82s 88ms/step - loss: 0.1009 - acc: 0.7954 - val_loss: 0.1027 - val_acc: 0.7936\n",
      "Epoch 10/20\n",
      "938/938 [==============================] - 85s 90ms/step - loss: 0.0981 - acc: 0.8009 - val_loss: 0.1005 - val_acc: 0.7979\n",
      "Epoch 11/20\n",
      "938/938 [==============================] - 83s 89ms/step - loss: 0.0957 - acc: 0.8055 - val_loss: 0.0980 - val_acc: 0.8003\n",
      "Epoch 12/20\n",
      "938/938 [==============================] - 82s 88ms/step - loss: 0.0936 - acc: 0.8111 - val_loss: 0.0971 - val_acc: 0.8051\n",
      "Epoch 13/20\n",
      "938/938 [==============================] - 84s 90ms/step - loss: 0.0919 - acc: 0.8146 - val_loss: 0.0951 - val_acc: 0.8096\n",
      "Epoch 14/20\n",
      "938/938 [==============================] - 83s 88ms/step - loss: 0.0900 - acc: 0.8196 - val_loss: 0.0948 - val_acc: 0.8066\n",
      "Epoch 15/20\n",
      "938/938 [==============================] - 77s 82ms/step - loss: 0.0885 - acc: 0.8227 - val_loss: 0.0920 - val_acc: 0.8111\n",
      "Epoch 16/20\n",
      "938/938 [==============================] - 82s 87ms/step - loss: 0.0870 - acc: 0.8254 - val_loss: 0.0919 - val_acc: 0.8088\n",
      "Epoch 17/20\n",
      "938/938 [==============================] - 77s 82ms/step - loss: 0.0858 - acc: 0.8280 - val_loss: 0.0906 - val_acc: 0.8126\n",
      "Epoch 18/20\n",
      "938/938 [==============================] - 79s 85ms/step - loss: 0.0845 - acc: 0.8319 - val_loss: 0.0876 - val_acc: 0.8280\n",
      "Epoch 19/20\n",
      "938/938 [==============================] - 77s 82ms/step - loss: 0.0834 - acc: 0.8345 - val_loss: 0.0889 - val_acc: 0.8253\n",
      "Epoch 20/20\n",
      "938/938 [==============================] - 77s 82ms/step - loss: 0.0822 - acc: 0.8368 - val_loss: 0.0867 - val_acc: 0.8298\n"
     ]
    }
   ],
   "source": [
    "model = models.Sequential([\n",
    "    layers.Conv2D(64, (3, 3), activation='relu', input_shape=(32, 32, 3)),  # Corrected input shape\n",
    "    layers.MaxPooling2D((2, 2)),\n",
    "    layers.Conv2D(64, (3, 3), activation='relu'),\n",
    "    layers.MaxPooling2D((2, 2)),\n",
    "    layers.Conv2D(64, (3, 3), activation='relu'),\n",
    "    layers.Flatten(),\n",
    "    layers.Dense(64, activation='relu'),\n",
    "    layers.Dense(10, activation='softmax')\n",
    "])\n",
    "\n",
    "model.compile(\n",
    "    loss=\"binary_crossentropy\",\n",
    "    optimizer=tf.keras.optimizers.RMSprop(learning_rate=2e-5),\n",
    "    metrics=[\"acc\"]\n",
    ")\n",
    "base_model.trainable = False\n",
    "\n",
    "history = model.fit(train_images_rgb, train_labels, epochs=20, batch_size=64, validation_data=(test_images_rgb, test_labels))\n"
   ]
  },
  {
   "cell_type": "code",
   "execution_count": 5,
   "id": "8e462839",
   "metadata": {},
   "outputs": [
    {
     "name": "stdout",
     "output_type": "stream",
     "text": [
      "313/313 [==============================] - 4s 13ms/step - loss: 0.0867 - acc: 0.8298\n",
      "Test accuracy: 0.829800009727478\n"
     ]
    }
   ],
   "source": [
    "test_loss, test_acc = model.evaluate(test_images_rgb, test_labels)\n",
    "print(f\"Test accuracy: {test_acc}\")\n"
   ]
  },
  {
   "cell_type": "code",
   "execution_count": 6,
   "id": "e6a78339",
   "metadata": {},
   "outputs": [
    {
     "name": "stdout",
     "output_type": "stream",
     "text": [
      "313/313 [==============================] - 4s 13ms/step\n",
      "              precision    recall  f1-score   support\n",
      "\n",
      "           0       0.81      0.79      0.80      1000\n",
      "           1       0.99      0.96      0.97      1000\n",
      "           2       0.64      0.79      0.71      1000\n",
      "           3       0.81      0.88      0.84      1000\n",
      "           4       0.67      0.76      0.71      1000\n",
      "           5       0.96      0.93      0.94      1000\n",
      "           6       0.63      0.39      0.48      1000\n",
      "           7       0.91      0.92      0.92      1000\n",
      "           8       0.94      0.94      0.94      1000\n",
      "           9       0.93      0.96      0.94      1000\n",
      "\n",
      "    accuracy                           0.83     10000\n",
      "   macro avg       0.83      0.83      0.83     10000\n",
      "weighted avg       0.83      0.83      0.83     10000\n",
      "\n"
     ]
    }
   ],
   "source": [
    "from sklearn.metrics import classification_report\n",
    "\n",
    "# Отримання передбачень\n",
    "predicted_probs = model.predict(test_images_rgb)\n",
    "predicted_labels = np.argmax(predicted_probs, axis=1)\n",
    "\n",
    "# Перетворення реальних міток\n",
    "true_labels = np.argmax(test_labels, axis=1)\n",
    "\n",
    "# Отримання звіту про класифікацію\n",
    "report = classification_report(true_labels, predicted_labels)\n",
    "print(report)\n"
   ]
  },
  {
   "cell_type": "code",
   "execution_count": null,
   "id": "2c57d464",
   "metadata": {},
   "outputs": [],
   "source": []
  }
 ],
 "metadata": {
  "kernelspec": {
   "display_name": "Python 3 (ipykernel)",
   "language": "python",
   "name": "python3"
  },
  "language_info": {
   "codemirror_mode": {
    "name": "ipython",
    "version": 3
   },
   "file_extension": ".py",
   "mimetype": "text/x-python",
   "name": "python",
   "nbconvert_exporter": "python",
   "pygments_lexer": "ipython3",
   "version": "3.10.4"
  }
 },
 "nbformat": 4,
 "nbformat_minor": 5
}
