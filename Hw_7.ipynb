{
 "cells": [
  {
   "cell_type": "code",
   "execution_count": 1,
   "id": "311c65f8",
   "metadata": {},
   "outputs": [
    {
     "data": {
      "text/plain": [
       "<surprise.dataset.DatasetAutoFolds at 0x175096825f0>"
      ]
     },
     "execution_count": 1,
     "metadata": {},
     "output_type": "execute_result"
    }
   ],
   "source": [
    "from surprise import Dataset\n",
    "\n",
    "# Завантаження датасету MovieLens 100K\n",
    "data = Dataset.load_builtin('ml-100k')\n",
    "\n",
    "data"
   ]
  },
  {
   "cell_type": "code",
   "execution_count": 2,
   "id": "504dc482",
   "metadata": {},
   "outputs": [
    {
     "name": "stdout",
     "output_type": "stream",
     "text": [
      "Evaluating RMSE, MAE of algorithm SVD on 5 split(s).\n",
      "\n",
      "                  Fold 1  Fold 2  Fold 3  Fold 4  Fold 5  Mean    Std     \n",
      "RMSE (testset)    0.9409  0.9332  0.9333  0.9363  0.9357  0.9359  0.0028  \n",
      "MAE (testset)     0.7434  0.7341  0.7379  0.7362  0.7388  0.7381  0.0031  \n",
      "Fit time          1.08    1.05    0.95    0.96    0.95    1.00    0.05    \n",
      "Test time         0.22    0.18    0.22    0.22    0.23    0.21    0.02    \n"
     ]
    }
   ],
   "source": [
    "from surprise import SVD\n",
    "from surprise.model_selection import cross_validate\n",
    "\n",
    "# Створення моделі SVD\n",
    "svd_model = SVD()\n",
    "\n",
    "# Проведення 5-кратної крос-валідації\n",
    "svd_cv = cross_validate(svd_model, data, measures=['RMSE', 'MAE'], cv=5, verbose=True)\n"
   ]
  },
  {
   "cell_type": "code",
   "execution_count": 3,
   "id": "9cde9230",
   "metadata": {},
   "outputs": [
    {
     "name": "stdout",
     "output_type": "stream",
     "text": [
      "Evaluating RMSE, MAE of algorithm SVDpp on 5 split(s).\n",
      "\n",
      "                  Fold 1  Fold 2  Fold 3  Fold 4  Fold 5  Mean    Std     \n",
      "RMSE (testset)    0.9241  0.9223  0.9205  0.9189  0.9169  0.9205  0.0025  \n",
      "MAE (testset)     0.7273  0.7232  0.7206  0.7210  0.7192  0.7223  0.0028  \n",
      "Fit time          36.52   36.67   36.90   36.56   37.14   36.76   0.23    \n",
      "Test time         3.83    3.90    3.92    3.92    3.81    3.88    0.05    \n",
      "Evaluating RMSE, MAE of algorithm NMF on 5 split(s).\n",
      "\n",
      "                  Fold 1  Fold 2  Fold 3  Fold 4  Fold 5  Mean    Std     \n",
      "RMSE (testset)    0.9546  0.9665  0.9608  0.9716  0.9574  0.9622  0.0062  \n",
      "MAE (testset)     0.7506  0.7595  0.7572  0.7635  0.7525  0.7567  0.0047  \n",
      "Fit time          1.59    1.61    1.62    1.61    1.63    1.61    0.01    \n",
      "Test time         0.23    0.22    0.16    0.21    0.21    0.21    0.03    \n"
     ]
    }
   ],
   "source": [
    "from surprise import SVDpp, NMF\n",
    "\n",
    "# Створення моделі SVD++\n",
    "svdpp_model = SVDpp()\n",
    "svdpp_cv = cross_validate(svdpp_model, data, measures=['RMSE', 'MAE'], cv=5, verbose=True)\n",
    "\n",
    "# Створення моделі NMF\n",
    "nmf_model = NMF()\n",
    "nmf_cv = cross_validate(nmf_model, data, measures=['RMSE', 'MAE'], cv=5, verbose=True)\n"
   ]
  },
  {
   "cell_type": "code",
   "execution_count": 4,
   "id": "6061c696",
   "metadata": {},
   "outputs": [
    {
     "name": "stdout",
     "output_type": "stream",
     "text": [
      "Best RMSE: 0.9450417980686081\n",
      "Best parameters for RMSE: {'n_epochs': 15, 'lr_all': 0.01, 'reg_all': 0.2}\n"
     ]
    }
   ],
   "source": [
    "from surprise.model_selection import GridSearchCV\n",
    "\n",
    "# Параметри для пошуку по сітці\n",
    "param_grid = {\n",
    "    'n_epochs': [5, 10, 15],\n",
    "    'lr_all': [0.002, 0.005, 0.01],\n",
    "    'reg_all': [0.2, 0.4, 0.6]\n",
    "}\n",
    "\n",
    "# Проведення пошуку по сітці\n",
    "grid_search = GridSearchCV(SVD, param_grid, measures=['RMSE', 'MAE'], cv=5)\n",
    "grid_search.fit(data)\n",
    "\n",
    "print('Best RMSE:', grid_search.best_score['rmse'])\n",
    "print('Best parameters for RMSE:', grid_search.best_params['rmse'])\n"
   ]
  },
  {
   "cell_type": "markdown",
   "id": "d3592af7",
   "metadata": {},
   "source": [
    "Оптимальним алгоритмом виявився SVD++"
   ]
  }
 ],
 "metadata": {
  "kernelspec": {
   "display_name": "Python 3 (ipykernel)",
   "language": "python",
   "name": "python3"
  },
  "language_info": {
   "codemirror_mode": {
    "name": "ipython",
    "version": 3
   },
   "file_extension": ".py",
   "mimetype": "text/x-python",
   "name": "python",
   "nbconvert_exporter": "python",
   "pygments_lexer": "ipython3",
   "version": "3.10.4"
  }
 },
 "nbformat": 4,
 "nbformat_minor": 5
}
