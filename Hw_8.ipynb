{
 "cells": [
  {
   "cell_type": "markdown",
   "metadata": {
    "id": "b0Yf4NBJUSNM"
   },
   "source": [
    "# Створення нейронної мережі\n",
    "\n",
    "У цьому завданні ми створимо повнозв'язну нейронну мережу, використовуючи при цьому низькорівневі механізми tensorflow.\n",
    "\n",
    "Архітектура нейромережі представлена на наступному малюнку. Як бачиш, у ній є один вхідний шар, два приховані, а також вихідний шар. В якості активаційної функції у прихованих шарах буде використовуватись сигмоїда. На вихідному шарі ми використовуємо softmax.\n",
    "\n",
    "Частина коду зі створення мережі вже написана, тобі потрібно заповнити пропуски у вказаних місцях."
   ]
  },
  {
   "cell_type": "markdown",
   "metadata": {
    "id": "01rZWUu0USNQ"
   },
   "source": [
    "## Архітектура нейронної мережі\n",
    "\n",
    "<img src=\"http://cs231n.github.io/assets/nn1/neural_net2.jpeg\" alt=\"nn\" style=\"width: 400px;\"/>\n"
   ]
  },
  {
   "cell_type": "markdown",
   "metadata": {
    "id": "LLvIZ705Qw_V"
   },
   "source": [
    "## Про датасет MNIST\n",
    "\n",
    "Дану нейромережу ми будемо вивчати на датасеті MNIST. Цей датасет являє собою велику кількість зображень рукописних цифр розміром $28 \\times 28$ пікселів. Кожен піксель приймає значення від 0 до 255.\n",
    "\n",
    "Як і раніше, датасет буде розділений на навчальну та тестову вибірки. При цьому ми виконаємо нормалізацію всіх зображень, щоб значення пікселів знаходилось у проміжку від 0 до 1, розділивши яскравість кожного пікселя на 255.\n",
    "\n",
    "Окрім того, архітектура нейронної мережі очікує на вхід вектор. У нашому ж випадку кожен об'єкт вибірки являє собою матрицю. Що ж робити? У цьому завданні ми \"розтягнемо\" матрицю $28 \\times 28$, отримавши при цьому вектор, що складається з 784 елементів.\n",
    "\n",
    "![MNIST Dataset](https://www.researchgate.net/profile/Steven-Young-5/publication/306056875/figure/fig1/AS:393921575309346@1470929630835/Example-images-from-the-MNIST-dataset.png)\n",
    "\n",
    "Більше інформації про датасет можна знайти [тут](http://yann.lecun.com/exdb/mnist/)."
   ]
  },
  {
   "cell_type": "code",
   "execution_count": 1,
   "metadata": {
    "id": "il_0_5OyUSNR"
   },
   "outputs": [],
   "source": [
    "import tensorflow as tf\n",
    "import numpy as np\n",
    "import matplotlib.pyplot as plt"
   ]
  },
  {
   "cell_type": "code",
   "execution_count": 2,
   "metadata": {
    "id": "cd-1_abTUSNS"
   },
   "outputs": [],
   "source": [
    "num_classes = 10 # загальна кількість класів, у нашому випадку це цифри від 0 до 9\n",
    "num_features = 784 # кількість атрибутів вхідного вектора 28 * 28 = 784\n",
    "\n",
    "learning_rate = 0.001 # швидкість навчання нейронної мережі\n",
    "training_steps = 3000 # максимальне число епох\n",
    "batch_size = 256 # перераховувати ваги мережі ми будемо не на всій вибірці, а на її випадковій підмножині з batch_size елементів\n",
    "display_step = 100 # кожні 100 ітерацій ми будемо показувати поточне значення функції втрат і точності\n",
    "\n",
    "n_hidden_1 = 128 # кількість нейронів 1-го шару\n",
    "n_hidden_2 = 256 # кількість нейронів 2-го шару"
   ]
  },
  {
   "cell_type": "code",
   "execution_count": 3,
   "metadata": {
    "id": "pGTXiRyTUSNT"
   },
   "outputs": [
    {
     "name": "stdout",
     "output_type": "stream",
     "text": [
      "Downloading data from https://storage.googleapis.com/tensorflow/tf-keras-datasets/mnist.npz\n",
      "11490434/11490434 [==============================] - 1s 0us/step\n"
     ]
    }
   ],
   "source": [
    "from tensorflow.keras.datasets import mnist\n",
    "\n",
    "# Завантажуємо датасет\n",
    "(x_train, y_train), (x_test, y_test) = mnist.load_data()\n",
    "\n",
    "# Перетворюємо цілочисельні пікселі на тип float32\n",
    "x_train, x_test = np.array(x_train, np.float32), np.array(x_test, np.float32)\n",
    "\n",
    "# Перетворюємо матриці розміром 28x28 пікселів у вектор з 784 елементів\n",
    "x_train, x_test = x_train.reshape([-1, num_features]), x_test.reshape([-1, num_features])\n",
    "\n",
    "# Нормалізуємо значення пікселів\n",
    "x_train, x_test = x_train / 255., x_test / 255.\n",
    "\n",
    "# Перемішаємо тренувальні дані\n",
    "train_data = tf.data.Dataset.from_tensor_slices((x_train, y_train))\n",
    "train_data = train_data.repeat().shuffle(5000).batch(batch_size).prefetch(1)"
   ]
  },
  {
   "cell_type": "code",
   "execution_count": 4,
   "metadata": {
    "id": "FkRmCQjnUSNV"
   },
   "outputs": [],
   "source": [
    "# Створимо нейронну мережу\n",
    "\n",
    "class DenseLayer(tf.Module):\n",
    "    def __init__(self, in_features, out_features, name=None):\n",
    "        super().__init__(name=name)\n",
    "        self.weights = tf.Variable(tf.random.normal([in_features, out_features], stddev=0.1), name=\"weights\")\n",
    "        self.bias = tf.Variable(tf.zeros([out_features]), name=\"bias\")\n",
    "\n",
    "    def __call__(self, x):\n",
    "        linear_output = tf.add(tf.matmul(x, self.weights), self.bias)\n",
    "        return tf.nn.relu(linear_output)\n",
    "\n",
    "\n",
    "class NN(tf.Module):\n",
    "    def __init__(self, name=None):\n",
    "        super().__init__(name=name)\n",
    "        \n",
    "        # Перший шар, який складається з 128 нейронів\n",
    "        self.layer1 = DenseLayer(num_features, n_hidden_1)\n",
    "        \n",
    "        # Другий шар, який складається з 256 нейронів\n",
    "        self.layer2 = DenseLayer(n_hidden_1, n_hidden_2)\n",
    "        \n",
    "        # Вихідний шар\n",
    "        self.out_layer = DenseLayer(n_hidden_2, num_classes)\n",
    "\n",
    "    def __call__(self, x):\n",
    "        # Прямий прохід через перший шар\n",
    "        x = self.layer1(x)\n",
    "        \n",
    "        # Прямий прохід через другий шар\n",
    "        x = self.layer2(x)\n",
    "        \n",
    "        # Прямий прохід через вихідний шар\n",
    "        x = self.out_layer(x)\n",
    "        \n",
    "        # Застосування функції softmax до виходу\n",
    "        return tf.nn.softmax(x)"
   ]
  },
  {
   "cell_type": "code",
   "execution_count": 5,
   "metadata": {
    "id": "LIf3o7VAUSNV"
   },
   "outputs": [],
   "source": [
    "# В якості функції помилки в даному випадку зручно взяти крос-ентропію\n",
    "def cross_entropy(y_pred, y_true):\n",
    "    # Encode label to a one hot vector.\n",
    "    y_true = tf.one_hot(y_true, depth=num_classes)\n",
    "\n",
    "    # Clip prediction values to avoid log(0) error.\n",
    "    y_pred = tf.clip_by_value(y_pred, 1e-9, 1.)\n",
    "\n",
    "    # Обчислення крос-ентропії\n",
    "    return tf.reduce_mean(-tf.reduce_sum(y_true * tf.math.log(y_pred)))\n",
    "\n",
    "# Як метрику якості використовуємо точність\n",
    "def accuracy(y_pred, y_true):\n",
    "    # Знаходимо індекс класу з найбільшою ймовірністю для передбачення\n",
    "    predicted_class = tf.argmax(y_pred, 1)\n",
    "    \n",
    "    # Перевіряємо, чи передбачені класи збігаються з істинними\n",
    "    correct_predictions = tf.equal(predicted_class, tf.cast(y_true, tf.int64))\n",
    "    \n",
    "    # Обчислюємо середню точність\n",
    "    accuracy = tf.reduce_mean(tf.cast(correct_predictions, tf.float32))\n",
    "    \n",
    "    return accuracy"
   ]
  },
  {
   "cell_type": "code",
   "execution_count": 6,
   "metadata": {
    "id": "MQeT1yatUSNW"
   },
   "outputs": [],
   "source": [
    "# Створимо екземпляр нейронної мережі\n",
    "neural_net = NN(name=\"mnist\")\n",
    "\n",
    "# Функція навчання нейромережі\n",
    "def train(nn, input_x, output_y):\n",
    "    # Для налаштування вагів мережі будемо використовувати стохастичний градієнтний спуск\n",
    "    optimizer = tf.optimizers.SGD(learning_rate)\n",
    "\n",
    "    # Активація автоматичного диференціювання\n",
    "    with tf.GradientTape() as g:\n",
    "        pred = neural_net(input_x)\n",
    "        loss = cross_entropy(pred, output_y)\n",
    "\n",
    "        # Створимо список оптимізованих параметрів\n",
    "        trainable_variables = neural_net.trainable_variables\n",
    "\n",
    "        # Обчислимо за ними значення градієнта\n",
    "        gradients = g.gradient(loss, trainable_variables)\n",
    "\n",
    "        # Модифікуємо параметри\n",
    "        optimizer.apply_gradients(zip(gradients, trainable_variables))"
   ]
  },
  {
   "cell_type": "code",
   "execution_count": 7,
   "metadata": {
    "id": "fnyns9lBfpQZ"
   },
   "outputs": [
    {
     "name": "stdout",
     "output_type": "stream",
     "text": [
      "step: 0, loss: 588.3533935546875, accuracy: 0.17578125\n",
      "step: 100, loss: 203.673095703125, accuracy: 0.8046875\n",
      "step: 200, loss: 46.621482849121094, accuracy: 0.94921875\n",
      "step: 300, loss: 31.411865234375, accuracy: 0.97265625\n",
      "step: 400, loss: 35.081600189208984, accuracy: 0.96875\n",
      "step: 500, loss: 20.211545944213867, accuracy: 0.9765625\n",
      "step: 600, loss: 20.079992294311523, accuracy: 0.98046875\n",
      "step: 700, loss: 14.371831893920898, accuracy: 0.98828125\n",
      "step: 800, loss: 21.642242431640625, accuracy: 0.98046875\n",
      "step: 900, loss: 12.67225456237793, accuracy: 0.98828125\n",
      "step: 1000, loss: 18.589982986450195, accuracy: 0.984375\n",
      "step: 1100, loss: 20.16040802001953, accuracy: 0.9765625\n",
      "step: 1200, loss: 13.434610366821289, accuracy: 0.98828125\n",
      "step: 1300, loss: 5.222172737121582, accuracy: 0.99609375\n",
      "step: 1400, loss: 13.048213005065918, accuracy: 0.98828125\n",
      "step: 1500, loss: 14.294193267822266, accuracy: 0.984375\n",
      "step: 1600, loss: 12.154664039611816, accuracy: 0.9921875\n",
      "step: 1700, loss: 4.479036331176758, accuracy: 1.0\n",
      "step: 1800, loss: 18.09510040283203, accuracy: 0.98828125\n",
      "step: 1900, loss: 4.072704315185547, accuracy: 0.99609375\n",
      "step: 2000, loss: 4.784029960632324, accuracy: 1.0\n",
      "step: 2100, loss: 8.852989196777344, accuracy: 0.9921875\n",
      "step: 2200, loss: 8.318572998046875, accuracy: 0.9921875\n",
      "step: 2300, loss: 8.300385475158691, accuracy: 0.9921875\n",
      "step: 2400, loss: 3.2543933391571045, accuracy: 1.0\n",
      "step: 2500, loss: 4.1950178146362305, accuracy: 1.0\n",
      "step: 2600, loss: 3.088101863861084, accuracy: 1.0\n",
      "step: 2700, loss: 2.797213315963745, accuracy: 1.0\n",
      "step: 2800, loss: 4.571986198425293, accuracy: 0.99609375\n",
      "step: 2900, loss: 2.050581216812134, accuracy: 1.0\n"
     ]
    }
   ],
   "source": [
    "# Тренування мережі\n",
    "\n",
    "loss_history = []  # кожні display_step кроків зберігай в цьому списку поточну помилку нейромережі\n",
    "accuracy_history = [] # кожні display_step кроків зберігай в цьому списку поточну точність нейромережі\n",
    "\n",
    "# У цьому циклі ми будемо проводити навчання нейронної мережі\n",
    "# із тренувального датасета train_data вилучи випадкову підмножину, на якій\n",
    "# відбудеться тренування. Використовуй метод take, доступний для тренувального датасета.\n",
    "for step, (batch_x, batch_y) in enumerate(train_data.take(training_steps)):\n",
    "    # Оновлюємо ваги нейронної мережі\n",
    "    train(neural_net, batch_x, batch_y)\n",
    "\n",
    "    if step % display_step == 0:\n",
    "        pred = neural_net(batch_x)\n",
    "        loss = cross_entropy(pred, batch_y)\n",
    "        acc = accuracy(pred, batch_y)\n",
    "        \n",
    "        # Зберігання значень функції втрат та точності\n",
    "        loss_history.append(loss)\n",
    "        accuracy_history.append(acc)\n",
    "        \n",
    "        print(f\"step: {step}, loss: {loss}, accuracy: {acc}\")"
   ]
  },
  {
   "cell_type": "code",
   "execution_count": 8,
   "metadata": {
    "id": "_yCBfG6MbQB2"
   },
   "outputs": [
    {
     "data": {
      "image/png": "[encoded data removed]",
      "text/plain": [
       "<Figure size 1400x500 with 2 Axes>"
      ]
     },
     "metadata": {},
     "output_type": "display_data"
    }
   ],
   "source": [
    "import matplotlib.pyplot as plt\n",
    "\n",
    "# Графік залежності втрат від кроку\n",
    "plt.figure(figsize=(14,5))\n",
    "\n",
    "plt.subplot(1, 2, 1)\n",
    "plt.plot(loss_history, label='Loss')\n",
    "plt.title('Loss evolution')\n",
    "plt.xlabel('Steps')\n",
    "plt.ylabel('Loss')\n",
    "plt.legend()\n",
    "\n",
    "# Графік залежності точності від кроку\n",
    "plt.subplot(1, 2, 2)\n",
    "plt.plot(accuracy_history, label='Accuracy', color='orange')\n",
    "plt.title('Accuracy evolution')\n",
    "plt.xlabel('Steps')\n",
    "plt.ylabel('Accuracy')\n",
    "plt.legend()\n",
    "\n",
    "plt.tight_layout()\n",
    "plt.show()\n"
   ]
  },
  {
   "cell_type": "code",
   "execution_count": 9,
   "metadata": {
    "id": "LE3g4gDyUSNY"
   },
   "outputs": [
    {
     "name": "stdout",
     "output_type": "stream",
     "text": [
      "Accuracy: 0.9750999808311462\n",
      "Precision: 0.9986693263053894\n",
      "Recall: 0.9984478950500488\n"
     ]
    }
   ],
   "source": [
    "# Передбачення моделі на тестовому наборі даних\n",
    "y_pred = neural_net(x_test)\n",
    "predicted_classes = tf.argmax(y_pred, axis=1)\n",
    "\n",
    "# Метрики\n",
    "accuracy_metric = tf.metrics.Accuracy()\n",
    "precision_metric = tf.metrics.Precision()\n",
    "recall_metric = tf.metrics.Recall()\n",
    "\n",
    "# Обновлюємо метрики\n",
    "accuracy_metric.update_state(y_test, predicted_classes)\n",
    "precision_metric.update_state(y_test, predicted_classes)\n",
    "recall_metric.update_state(y_test, predicted_classes)\n",
    "\n",
    "# Отримуємо значення метрик\n",
    "accuracy_value = accuracy_metric.result().numpy()\n",
    "precision_value = precision_metric.result().numpy()\n",
    "recall_value = recall_metric.result().numpy()\n",
    "\n",
    "print(f\"Accuracy: {accuracy_value}\")\n",
    "print(f\"Precision: {precision_value}\")\n",
    "print(f\"Recall: {recall_value}\")\n"
   ]
  },
  {
   "cell_type": "code",
   "execution_count": 13,
   "metadata": {
    "id": "_EEHAubOUSNY"
   },
   "outputs": [
    {
     "data": {
      "image/png": "[encoded data removed]",
      "text/plain": [
       "<Figure size 1000x500 with 5 Axes>"
      ]
     },
     "metadata": {},
     "output_type": "display_data"
    }
   ],
   "source": [
    "import numpy as np\n",
    "\n",
    "# Вибираємо 5 випадкових індексів\n",
    "random_indices = np.random.choice(len(x_test), 5)\n",
    "\n",
    "# Вибираємо зображення та істинні мітки за цими індексами\n",
    "random_images = x_test[random_indices]\n",
    "random_labels = y_test[random_indices]\n",
    "\n",
    "# Отримуємо передбачення мережі\n",
    "predictions = neural_net(random_images)\n",
    "predicted_classes = np.argmax(predictions, axis=1)\n",
    "\n",
    "# Виведення результатів\n",
    "plt.figure(figsize=(10, 5))\n",
    "for i, index in enumerate(random_indices):\n",
    "    plt.subplot(1, 5, i+1)\n",
    "    plt.imshow(random_images[i].reshape(28, 28), cmap='gray')\n",
    "    plt.title(f\"True: {random_labels[i]}, Pred: {predicted_classes[i]}\")\n",
    "    plt.axis('off')\n",
    "plt.tight_layout()\n",
    "plt.show()\n"
   ]
  },
  {
   "cell_type": "code",
   "execution_count": null,
   "metadata": {},
   "outputs": [],
   "source": []
  }
 ],
 "metadata": {
  "accelerator": "GPU",
  "colab": {
   "provenance": []
  },
  "kernelspec": {
   "display_name": "Python 3 (ipykernel)",
   "language": "python",
   "name": "python3"
  },
  "language_info": {
   "codemirror_mode": {
    "name": "ipython",
    "version": 3
   },
   "file_extension": ".py",
   "mimetype": "text/x-python",
   "name": "python",
   "nbconvert_exporter": "python",
   "pygments_lexer": "ipython3",
   "version": "3.10.4"
  }
 },
 "nbformat": 4,
 "nbformat_minor": 1
}
